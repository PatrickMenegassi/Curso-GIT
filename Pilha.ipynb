{
  "nbformat": 4,
  "nbformat_minor": 0,
  "metadata": {
    "colab": {
      "provenance": [],
      "authorship_tag": "ABX9TyNCxPjZijkQMAW7lqjBbVYT",
      "include_colab_link": true
    },
    "kernelspec": {
      "name": "python3",
      "display_name": "Python 3"
    },
    "language_info": {
      "name": "python"
    }
  },
  "cells": [
    {
      "cell_type": "markdown",
      "metadata": {
        "id": "view-in-github",
        "colab_type": "text"
      },
      "source": [
        "<a href=\"https://colab.research.google.com/github/PatrickMenegassi/Curso-GIT/blob/master/Pilha.ipynb\" target=\"_parent\"><img src=\"https://colab.research.google.com/assets/colab-badge.svg\" alt=\"Open In Colab\"/></a>"
      ]
    },
    {
      "cell_type": "code",
      "execution_count": null,
      "metadata": {
        "id": "6O4YbPAmQ6FC"
      },
      "outputs": [],
      "source": [
        "class Node(data):\n",
        "  self.data = data\n",
        "  self.next = None\n",
        "\n",
        "class Pilha:\n",
        "  def __init__(self):\n",
        "    self.head = None\n",
        "    self.number_elements = 0\n",
        "\n",
        "  def push(self,data):\n",
        "\n",
        "    new_node = Node(data)\n",
        "\n",
        "    if self.head == None:\n",
        "      self.head = new_node\n",
        "    else:\n",
        "      self.head = new_node.next\n",
        "      self.head = new_node\n",
        "\n",
        "    self.number_elements +=1\n",
        "\n",
        "  def pop(self):\n",
        "    if self.head == None:\n",
        "      print(\"Pilha Vazia\")\n",
        "      return\n",
        "\n",
        "    self.head = self.head.next\n",
        "    self.number_elements -=1\n",
        "\n",
        "  def display(self):\n",
        "\n",
        "    current_node = self.head\n",
        "\n",
        "    while current_node != None:\n",
        "      print(current_node.data)\n",
        "      current_node = current_node.next\n",
        "\n",
        "  def size(self):\n",
        "    return self.number_elements\n",
        ""
      ]
    }
  ]
}